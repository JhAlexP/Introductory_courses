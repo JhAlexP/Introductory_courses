{
 "cells": [
  {
   "cell_type": "code",
   "execution_count": null,
   "id": "7f2c132b-1009-4422-b722-42816b018325",
   "metadata": {},
   "outputs": [],
   "source": [
    "# importar selenium\n",
    "from selenium import webdriver"
   ]
  },
  {
   "cell_type": "code",
   "execution_count": null,
   "id": "f8a673ae-2291-440b-b80b-ad5392189337",
   "metadata": {},
   "outputs": [],
   "source": [
    "# añadir URL que queremos usar\n",
    "url1 = 'https://listado.mercadolibre.com.co/televisor-plasma#D[A:televisor%20plasma]'"
   ]
  },
  {
   "cell_type": "code",
   "execution_count": null,
   "id": "cf7f06f0-2190-4cd5-8504-8d877da612f7",
   "metadata": {},
   "outputs": [],
   "source": [
    "# importar de selenium el web driver para Chrome\n",
    "from selenium.webdriver.chrome.service import Service as ChromeService\n",
    "from webdriver_manager.chrome import ChromeDriverManager"
   ]
  },
  {
   "cell_type": "code",
   "execution_count": null,
   "id": "35a18f7d-1b45-45a0-9fab-acaa304a9332",
   "metadata": {},
   "outputs": [],
   "source": [
    "# Inicializar ChromeDriver\n",
    "driver = webdriver.Chrome(service=ChromeService(ChromeDriverManager().install()))"
   ]
  },
  {
   "cell_type": "code",
   "execution_count": null,
   "id": "1b95b351-bd82-4252-906d-e312fd8b5ae3",
   "metadata": {},
   "outputs": [],
   "source": [
    "# abrir la ventana\n",
    "driver.get(url1)\n",
    "driver.maximize_window()"
   ]
  },
  {
   "cell_type": "code",
   "execution_count": null,
   "id": "5f43cb6b-6838-4341-8514-3e0ee06b698c",
   "metadata": {},
   "outputs": [],
   "source": [
    "# importar de selenium el web driver para Edge\n",
    "from selenium.webdriver.edge.service import Service as EdgeService\n",
    "from webdriver_manager.microsoft import EdgeChromiumDriverManager"
   ]
  },
  {
   "cell_type": "code",
   "execution_count": null,
   "id": "93910d9f-6545-4141-a2c7-3f7cdba35ee6",
   "metadata": {},
   "outputs": [],
   "source": [
    "# Inicializar EdgeDriver\n",
    "driver = webdriver.Edge(service=EdgeService(EdgeChromiumDriverManager().install()))"
   ]
  },
  {
   "cell_type": "code",
   "execution_count": null,
   "id": "fcf91506-a370-4802-b209-c0cd258f6909",
   "metadata": {},
   "outputs": [],
   "source": [
    "# abrir la ventana\n",
    "driver.get(url1)\n",
    "driver.maximize_window()"
   ]
  },
  {
   "cell_type": "code",
   "execution_count": null,
   "id": "89635dc8-d4f2-4538-849d-7b792defb623",
   "metadata": {},
   "outputs": [],
   "source": [
    "# importar de selenium el web driver para firefox\n",
    "from selenium.webdriver.firefox.service import Service as FirefoxService\n",
    "from webdriver_manager.firefox import GeckoDriverManager"
   ]
  },
  {
   "cell_type": "code",
   "execution_count": null,
   "id": "7cb957ec-ab04-4806-baf5-7a4cbc9bd2da",
   "metadata": {},
   "outputs": [],
   "source": [
    "# Inicializar FirefoxDriver\n",
    "driver = webdriver.Firefox(service=FirefoxService(GeckoDriverManager().install()))"
   ]
  },
  {
   "cell_type": "code",
   "execution_count": null,
   "id": "cacf8afc-b657-4a71-abc4-535bf4eaf3e1",
   "metadata": {},
   "outputs": [],
   "source": [
    "# abrir la ventana\n",
    "driver.get(url1)\n",
    "driver.maximize_window()"
   ]
  }
 ],
 "metadata": {
  "kernelspec": {
   "display_name": "Python 3 (ipykernel)",
   "language": "python",
   "name": "python3"
  },
  "language_info": {
   "codemirror_mode": {
    "name": "ipython",
    "version": 3
   },
   "file_extension": ".py",
   "mimetype": "text/x-python",
   "name": "python",
   "nbconvert_exporter": "python",
   "pygments_lexer": "ipython3",
   "version": "3.12.4"
  }
 },
 "nbformat": 4,
 "nbformat_minor": 5
}
