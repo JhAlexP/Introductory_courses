{
 "cells": [
  {
   "cell_type": "code",
   "execution_count": null,
   "id": "7f2c132b-1009-4422-b722-42816b018325",
   "metadata": {},
   "outputs": [],
   "source": []
  }
 ],
 "metadata": {
  "kernelspec": {
   "display_name": "",
   "name": ""
  },
  "language_info": {
   "name": ""
  }
 },
 "nbformat": 4,
 "nbformat_minor": 5
}
